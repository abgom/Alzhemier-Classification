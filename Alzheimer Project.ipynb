{
 "cells": [
  {
   "cell_type": "code",
   "execution_count": 73,
   "id": "d16452b8",
   "metadata": {},
   "outputs": [],
   "source": [
    "import pandas as pd\n",
    "import numpy as np\n",
    "import matplotlib.pyplot as plt\n",
    "import seaborn as sns\n",
    "from sklearn import preprocessing\n",
    "import matplotlib.lines as lines"
   ]
  },
  {
   "cell_type": "markdown",
   "id": "4bf916c0",
   "metadata": {},
   "source": [
    "Importamos dos datasets de Pacientes con Alzheimer. En el primero que llamaré \"brain\" están los volumenes de material cerebral de los paceintes. \n",
    "\n",
    "Mientras que en el segundo hay información de la edad y el diagnóstico. "
   ]
  },
  {
   "cell_type": "code",
   "execution_count": 2,
   "id": "43246d40",
   "metadata": {},
   "outputs": [],
   "source": [
    "brain = pd.read_csv('datasets/TADPOLE_BASELINE.csv')\n",
    "diagn = pd.read_csv('datasets/TADPOLE_BASELINE_demo.csv')"
   ]
  },
  {
   "cell_type": "code",
   "execution_count": 3,
   "id": "864b6a9f",
   "metadata": {},
   "outputs": [
    {
     "data": {
      "text/html": [
       "<div>\n",
       "<style scoped>\n",
       "    .dataframe tbody tr th:only-of-type {\n",
       "        vertical-align: middle;\n",
       "    }\n",
       "\n",
       "    .dataframe tbody tr th {\n",
       "        vertical-align: top;\n",
       "    }\n",
       "\n",
       "    .dataframe thead th {\n",
       "        text-align: right;\n",
       "    }\n",
       "</style>\n",
       "<table border=\"1\" class=\"dataframe\">\n",
       "  <thead>\n",
       "    <tr style=\"text-align: right;\">\n",
       "      <th></th>\n",
       "      <th>Subject</th>\n",
       "      <th>RightAccumbensArea</th>\n",
       "      <th>RightAmygdala</th>\n",
       "      <th>RightBankssts</th>\n",
       "      <th>RightCaudalAnteriorCingulate</th>\n",
       "      <th>RightCaudalMiddleFrontal</th>\n",
       "      <th>RightCaudate</th>\n",
       "      <th>RightChoroidPlexus</th>\n",
       "      <th>RightCuneus</th>\n",
       "      <th>RightEntorhinal</th>\n",
       "      <th>...</th>\n",
       "      <th>LeftPutamen</th>\n",
       "      <th>LeftRostralAnteriorCingulate</th>\n",
       "      <th>LeftRostralMiddleFrontal</th>\n",
       "      <th>LeftSuperiorFrontal</th>\n",
       "      <th>LeftSuperiorParietal</th>\n",
       "      <th>LeftSuperiorTemporal</th>\n",
       "      <th>LeftSupramarginal</th>\n",
       "      <th>LeftTemporalPole</th>\n",
       "      <th>LeftThalamus</th>\n",
       "      <th>LeftTransverseTemporal</th>\n",
       "    </tr>\n",
       "  </thead>\n",
       "  <tbody>\n",
       "    <tr>\n",
       "      <th>0</th>\n",
       "      <td>011_S_0002_bl</td>\n",
       "      <td>0.023430</td>\n",
       "      <td>0.090696</td>\n",
       "      <td>0.188647</td>\n",
       "      <td>0.121633</td>\n",
       "      <td>0.330838</td>\n",
       "      <td>0.237572</td>\n",
       "      <td>0.176252</td>\n",
       "      <td>0.164814</td>\n",
       "      <td>0.097548</td>\n",
       "      <td>...</td>\n",
       "      <td>0.246491</td>\n",
       "      <td>0.141233</td>\n",
       "      <td>0.908921</td>\n",
       "      <td>1.188264</td>\n",
       "      <td>0.692965</td>\n",
       "      <td>0.548557</td>\n",
       "      <td>0.500035</td>\n",
       "      <td>0.082382</td>\n",
       "      <td>0.362128</td>\n",
       "      <td>0.044794</td>\n",
       "    </tr>\n",
       "    <tr>\n",
       "      <th>1</th>\n",
       "      <td>011_S_0003_bl</td>\n",
       "      <td>0.030458</td>\n",
       "      <td>0.057792</td>\n",
       "      <td>0.150311</td>\n",
       "      <td>0.119176</td>\n",
       "      <td>0.251628</td>\n",
       "      <td>0.267300</td>\n",
       "      <td>0.196492</td>\n",
       "      <td>0.172438</td>\n",
       "      <td>0.051284</td>\n",
       "      <td>...</td>\n",
       "      <td>0.276880</td>\n",
       "      <td>0.104077</td>\n",
       "      <td>0.812312</td>\n",
       "      <td>1.102000</td>\n",
       "      <td>0.582135</td>\n",
       "      <td>0.545533</td>\n",
       "      <td>0.520021</td>\n",
       "      <td>0.094393</td>\n",
       "      <td>0.360131</td>\n",
       "      <td>0.052221</td>\n",
       "    </tr>\n",
       "    <tr>\n",
       "      <th>2</th>\n",
       "      <td>011_S_0005_bl</td>\n",
       "      <td>0.036873</td>\n",
       "      <td>0.070638</td>\n",
       "      <td>0.152185</td>\n",
       "      <td>0.110924</td>\n",
       "      <td>0.342888</td>\n",
       "      <td>0.207525</td>\n",
       "      <td>0.137375</td>\n",
       "      <td>0.163216</td>\n",
       "      <td>0.153891</td>\n",
       "      <td>...</td>\n",
       "      <td>0.291205</td>\n",
       "      <td>0.179245</td>\n",
       "      <td>0.741115</td>\n",
       "      <td>1.186577</td>\n",
       "      <td>0.670051</td>\n",
       "      <td>0.545719</td>\n",
       "      <td>0.573999</td>\n",
       "      <td>0.080023</td>\n",
       "      <td>0.386952</td>\n",
       "      <td>0.062044</td>\n",
       "    </tr>\n",
       "    <tr>\n",
       "      <th>3</th>\n",
       "      <td>022_S_0007_bl</td>\n",
       "      <td>0.034650</td>\n",
       "      <td>0.086146</td>\n",
       "      <td>0.156185</td>\n",
       "      <td>0.138011</td>\n",
       "      <td>0.395931</td>\n",
       "      <td>0.264496</td>\n",
       "      <td>0.193200</td>\n",
       "      <td>0.225634</td>\n",
       "      <td>0.078167</td>\n",
       "      <td>...</td>\n",
       "      <td>0.307421</td>\n",
       "      <td>0.122274</td>\n",
       "      <td>1.050446</td>\n",
       "      <td>1.387567</td>\n",
       "      <td>0.659613</td>\n",
       "      <td>0.537118</td>\n",
       "      <td>0.526184</td>\n",
       "      <td>0.088510</td>\n",
       "      <td>0.472324</td>\n",
       "      <td>0.074029</td>\n",
       "    </tr>\n",
       "    <tr>\n",
       "      <th>4</th>\n",
       "      <td>011_S_0008_bl</td>\n",
       "      <td>0.025142</td>\n",
       "      <td>0.069767</td>\n",
       "      <td>0.122773</td>\n",
       "      <td>0.137959</td>\n",
       "      <td>0.253999</td>\n",
       "      <td>0.182656</td>\n",
       "      <td>0.172341</td>\n",
       "      <td>0.174060</td>\n",
       "      <td>0.131440</td>\n",
       "      <td>...</td>\n",
       "      <td>0.284799</td>\n",
       "      <td>0.126999</td>\n",
       "      <td>0.721669</td>\n",
       "      <td>1.324146</td>\n",
       "      <td>0.738573</td>\n",
       "      <td>0.681843</td>\n",
       "      <td>0.612505</td>\n",
       "      <td>0.118834</td>\n",
       "      <td>0.373190</td>\n",
       "      <td>0.056874</td>\n",
       "    </tr>\n",
       "  </tbody>\n",
       "</table>\n",
       "<p>5 rows × 85 columns</p>\n",
       "</div>"
      ],
      "text/plain": [
       "         Subject  RightAccumbensArea  RightAmygdala  RightBankssts  \\\n",
       "0  011_S_0002_bl            0.023430       0.090696       0.188647   \n",
       "1  011_S_0003_bl            0.030458       0.057792       0.150311   \n",
       "2  011_S_0005_bl            0.036873       0.070638       0.152185   \n",
       "3  022_S_0007_bl            0.034650       0.086146       0.156185   \n",
       "4  011_S_0008_bl            0.025142       0.069767       0.122773   \n",
       "\n",
       "   RightCaudalAnteriorCingulate  RightCaudalMiddleFrontal  RightCaudate  \\\n",
       "0                      0.121633                  0.330838      0.237572   \n",
       "1                      0.119176                  0.251628      0.267300   \n",
       "2                      0.110924                  0.342888      0.207525   \n",
       "3                      0.138011                  0.395931      0.264496   \n",
       "4                      0.137959                  0.253999      0.182656   \n",
       "\n",
       "   RightChoroidPlexus  RightCuneus  RightEntorhinal  ...  LeftPutamen  \\\n",
       "0            0.176252     0.164814         0.097548  ...     0.246491   \n",
       "1            0.196492     0.172438         0.051284  ...     0.276880   \n",
       "2            0.137375     0.163216         0.153891  ...     0.291205   \n",
       "3            0.193200     0.225634         0.078167  ...     0.307421   \n",
       "4            0.172341     0.174060         0.131440  ...     0.284799   \n",
       "\n",
       "   LeftRostralAnteriorCingulate  LeftRostralMiddleFrontal  \\\n",
       "0                      0.141233                  0.908921   \n",
       "1                      0.104077                  0.812312   \n",
       "2                      0.179245                  0.741115   \n",
       "3                      0.122274                  1.050446   \n",
       "4                      0.126999                  0.721669   \n",
       "\n",
       "   LeftSuperiorFrontal  LeftSuperiorParietal  LeftSuperiorTemporal  \\\n",
       "0             1.188264              0.692965              0.548557   \n",
       "1             1.102000              0.582135              0.545533   \n",
       "2             1.186577              0.670051              0.545719   \n",
       "3             1.387567              0.659613              0.537118   \n",
       "4             1.324146              0.738573              0.681843   \n",
       "\n",
       "   LeftSupramarginal  LeftTemporalPole  LeftThalamus  LeftTransverseTemporal  \n",
       "0           0.500035          0.082382      0.362128                0.044794  \n",
       "1           0.520021          0.094393      0.360131                0.052221  \n",
       "2           0.573999          0.080023      0.386952                0.062044  \n",
       "3           0.526184          0.088510      0.472324                0.074029  \n",
       "4           0.612505          0.118834      0.373190                0.056874  \n",
       "\n",
       "[5 rows x 85 columns]"
      ]
     },
     "execution_count": 3,
     "metadata": {},
     "output_type": "execute_result"
    }
   ],
   "source": [
    "brain.head()"
   ]
  },
  {
   "cell_type": "code",
   "execution_count": 4,
   "id": "345ccd50",
   "metadata": {},
   "outputs": [
    {
     "data": {
      "text/plain": [
       "(855, 85)"
      ]
     },
     "execution_count": 4,
     "metadata": {},
     "output_type": "execute_result"
    }
   ],
   "source": [
    "brain.shape"
   ]
  },
  {
   "cell_type": "code",
   "execution_count": 5,
   "id": "b65496c1",
   "metadata": {},
   "outputs": [
    {
     "data": {
      "text/html": [
       "<div>\n",
       "<style scoped>\n",
       "    .dataframe tbody tr th:only-of-type {\n",
       "        vertical-align: middle;\n",
       "    }\n",
       "\n",
       "    .dataframe tbody tr th {\n",
       "        vertical-align: top;\n",
       "    }\n",
       "\n",
       "    .dataframe thead th {\n",
       "        text-align: right;\n",
       "    }\n",
       "</style>\n",
       "<table border=\"1\" class=\"dataframe\">\n",
       "  <thead>\n",
       "    <tr style=\"text-align: right;\">\n",
       "      <th></th>\n",
       "      <th>Subject</th>\n",
       "      <th>AGE</th>\n",
       "      <th>DX</th>\n",
       "    </tr>\n",
       "  </thead>\n",
       "  <tbody>\n",
       "    <tr>\n",
       "      <th>0</th>\n",
       "      <td>011_S_0002_bl</td>\n",
       "      <td>74.3</td>\n",
       "      <td>0.0</td>\n",
       "    </tr>\n",
       "    <tr>\n",
       "      <th>1</th>\n",
       "      <td>011_S_0003_bl</td>\n",
       "      <td>81.3</td>\n",
       "      <td>1.0</td>\n",
       "    </tr>\n",
       "    <tr>\n",
       "      <th>2</th>\n",
       "      <td>011_S_0005_bl</td>\n",
       "      <td>73.7</td>\n",
       "      <td>0.0</td>\n",
       "    </tr>\n",
       "    <tr>\n",
       "      <th>3</th>\n",
       "      <td>022_S_0007_bl</td>\n",
       "      <td>75.4</td>\n",
       "      <td>1.0</td>\n",
       "    </tr>\n",
       "    <tr>\n",
       "      <th>4</th>\n",
       "      <td>011_S_0008_bl</td>\n",
       "      <td>84.5</td>\n",
       "      <td>0.0</td>\n",
       "    </tr>\n",
       "  </tbody>\n",
       "</table>\n",
       "</div>"
      ],
      "text/plain": [
       "         Subject   AGE   DX\n",
       "0  011_S_0002_bl  74.3  0.0\n",
       "1  011_S_0003_bl  81.3  1.0\n",
       "2  011_S_0005_bl  73.7  0.0\n",
       "3  022_S_0007_bl  75.4  1.0\n",
       "4  011_S_0008_bl  84.5  0.0"
      ]
     },
     "execution_count": 5,
     "metadata": {},
     "output_type": "execute_result"
    }
   ],
   "source": [
    "diagn.head()"
   ]
  },
  {
   "cell_type": "code",
   "execution_count": 6,
   "id": "979ee94d",
   "metadata": {},
   "outputs": [
    {
     "name": "stdout",
     "output_type": "stream",
     "text": [
      "       RightAccumbensArea  RightAmygdala  RightBankssts  \\\n",
      "count          855.000000     855.000000     855.000000   \n",
      "mean             0.030751       0.087171       0.137156   \n",
      "std              0.006426       0.017383       0.025706   \n",
      "min              0.013111       0.020888       0.067095   \n",
      "25%              0.026596       0.075880       0.119773   \n",
      "50%              0.030530       0.087478       0.135404   \n",
      "75%              0.034649       0.098172       0.154237   \n",
      "max              0.053832       0.161029       0.235965   \n",
      "\n",
      "       RightCaudalAnteriorCingulate  RightCaudalMiddleFrontal  RightCaudate  \\\n",
      "count                    855.000000                855.000000    855.000000   \n",
      "mean                       0.130581                  0.337386      0.233307   \n",
      "std                        0.027181                  0.065221      0.036281   \n",
      "min                        0.058917                  0.144483      0.137516   \n",
      "25%                        0.112101                  0.295938      0.208438   \n",
      "50%                        0.130486                  0.334568      0.230593   \n",
      "75%                        0.147463                  0.381298      0.253228   \n",
      "max                        0.217523                  0.574351      0.426667   \n",
      "\n",
      "       RightChoroidPlexus  RightCuneus  RightEntorhinal  RightFrontalPole  \\\n",
      "count          855.000000   855.000000       855.000000        855.000000   \n",
      "mean             0.158014     0.173208         0.112700          0.055430   \n",
      "std              0.028113     0.031768         0.029674          0.014581   \n",
      "min              0.074602     0.089264         0.023887          0.022861   \n",
      "25%              0.139264     0.151956         0.094601          0.045044   \n",
      "50%              0.156779     0.171898         0.113960          0.054466   \n",
      "75%              0.175993     0.192643         0.131021          0.063937   \n",
      "max              0.303628     0.273510         0.222931          0.130944   \n",
      "\n",
      "       ...  LeftPutamen  LeftRostralAnteriorCingulate  \\\n",
      "count  ...   855.000000                    855.000000   \n",
      "mean   ...     0.311691                      0.153997   \n",
      "std    ...     0.044735                      0.029672   \n",
      "min    ...     0.081643                      0.055742   \n",
      "25%    ...     0.283230                      0.132925   \n",
      "50%    ...     0.309720                      0.152280   \n",
      "75%    ...     0.338727                      0.173957   \n",
      "max    ...     0.474645                      0.264529   \n",
      "\n",
      "       LeftRostralMiddleFrontal  LeftSuperiorFrontal  LeftSuperiorParietal  \\\n",
      "count                855.000000           855.000000            855.000000   \n",
      "mean                   0.833485             1.241281              0.732852   \n",
      "std                    0.120877             0.142692              0.118906   \n",
      "min                    0.504476             0.738126              0.370690   \n",
      "25%                    0.745730             1.146147              0.650997   \n",
      "50%                    0.831405             1.239449              0.731521   \n",
      "75%                    0.916870             1.336095              0.808023   \n",
      "max                    1.231650             1.724762              1.373342   \n",
      "\n",
      "       LeftSuperiorTemporal  LeftSupramarginal  LeftTemporalPole  \\\n",
      "count            855.000000         855.000000        855.000000   \n",
      "mean               0.657172           0.605890          0.140520   \n",
      "std                0.096604           0.093395          0.032745   \n",
      "min                0.317805           0.339825          0.043950   \n",
      "25%                0.589853           0.537938          0.119215   \n",
      "50%                0.654986           0.604057          0.141102   \n",
      "75%                0.723028           0.675037          0.160504   \n",
      "max                1.020843           0.918298          0.248137   \n",
      "\n",
      "       LeftThalamus  LeftTransverseTemporal  \n",
      "count    855.000000              855.000000  \n",
      "mean       0.405497                0.066208  \n",
      "std        0.039154                0.014033  \n",
      "min        0.285144                0.032448  \n",
      "25%        0.380142                0.056395  \n",
      "50%        0.403515                0.064917  \n",
      "75%        0.429284                0.075451  \n",
      "max        0.813906                0.121803  \n",
      "\n",
      "[8 rows x 84 columns]\n"
     ]
    }
   ],
   "source": [
    "print(brain.describe())"
   ]
  },
  {
   "cell_type": "markdown",
   "id": "7ee52990",
   "metadata": {},
   "source": [
    "\n",
    "Vemos como hay 855 registros en nuestra base de datos, lo que supone que tenemos una muestra de 855 sujetos. "
   ]
  },
  {
   "cell_type": "code",
   "execution_count": 7,
   "id": "7b9d9afa",
   "metadata": {},
   "outputs": [
    {
     "name": "stdout",
     "output_type": "stream",
     "text": [
      "              AGE          DX\n",
      "count  855.000000  855.000000\n",
      "mean    74.474386    0.391813\n",
      "std      6.648541    0.488441\n",
      "min     55.100000    0.000000\n",
      "25%     70.500000    0.000000\n",
      "50%     74.300000    0.000000\n",
      "75%     78.900000    1.000000\n",
      "max     90.900000    1.000000\n"
     ]
    }
   ],
   "source": [
    "print(diagn.describe())"
   ]
  },
  {
   "cell_type": "code",
   "execution_count": 54,
   "id": "79d4dafb",
   "metadata": {},
   "outputs": [
    {
     "data": {
      "text/plain": [
       "0"
      ]
     },
     "execution_count": 54,
     "metadata": {},
     "output_type": "execute_result"
    }
   ],
   "source": [
    "brain.isna().sum().sum()"
   ]
  },
  {
   "cell_type": "code",
   "execution_count": 56,
   "id": "79b679f6",
   "metadata": {},
   "outputs": [
    {
     "data": {
      "text/plain": [
       "Subject    0\n",
       "AGE        0\n",
       "DX         0\n",
       "dtype: int64"
      ]
     },
     "execution_count": 56,
     "metadata": {},
     "output_type": "execute_result"
    }
   ],
   "source": [
    "diagn.isna().sum()"
   ]
  },
  {
   "cell_type": "markdown",
   "id": "f2be6ecd",
   "metadata": {},
   "source": [
    "Tenemos que el sujeto más joven tiene 55.10 años y el más mayor 90.90 años. Vemos también que el 39% de nuestra muestra no tiene un diagnóstico de Alzheimer y que el 61% sí lo tienen. "
   ]
  },
  {
   "cell_type": "markdown",
   "id": "8c2ab6f2",
   "metadata": {},
   "source": [
    "También podemos ver como los datos no están normalizados. Por lo tanto, cada atributo está en un rango diferente. Por lo tanto, antes de seguir con los análisis tenemos que normalizar los atributos de manera que todos estén en la misma escala.\n",
    "\n",
    "Esto es importante porque los algoritmos que emplearé más adelante son más sensibles a valores altos. Por lo tanto, si un atributo tiene unos valores más grandes, el algoritmo estará sesgado hacia estos atributos."
   ]
  },
  {
   "cell_type": "markdown",
   "id": "1afb3b02",
   "metadata": {},
   "source": [
    "## Normalización de los datos"
   ]
  },
  {
   "cell_type": "code",
   "execution_count": 8,
   "id": "36eaf2b4",
   "metadata": {},
   "outputs": [],
   "source": [
    "# convertimos el dataframe en una matriz numérica\n",
    "brain_num = brain.drop(columns = 'Subject')"
   ]
  },
  {
   "cell_type": "code",
   "execution_count": 9,
   "id": "440d7733",
   "metadata": {},
   "outputs": [],
   "source": [
    "# para normalizar los datos, podemos crear una nueva función\n",
    "\n",
    "def norm_df(df: pd.DataFrame()):\n",
    "    brain_norm = (df - df.mean())/df.std()\n",
    "    return brain_norm"
   ]
  },
  {
   "cell_type": "code",
   "execution_count": 10,
   "id": "1e15f603",
   "metadata": {},
   "outputs": [
    {
     "data": {
      "text/html": [
       "<div>\n",
       "<style scoped>\n",
       "    .dataframe tbody tr th:only-of-type {\n",
       "        vertical-align: middle;\n",
       "    }\n",
       "\n",
       "    .dataframe tbody tr th {\n",
       "        vertical-align: top;\n",
       "    }\n",
       "\n",
       "    .dataframe thead th {\n",
       "        text-align: right;\n",
       "    }\n",
       "</style>\n",
       "<table border=\"1\" class=\"dataframe\">\n",
       "  <thead>\n",
       "    <tr style=\"text-align: right;\">\n",
       "      <th></th>\n",
       "      <th>RightAccumbensArea</th>\n",
       "      <th>RightAmygdala</th>\n",
       "      <th>RightBankssts</th>\n",
       "      <th>RightCaudalAnteriorCingulate</th>\n",
       "      <th>RightCaudalMiddleFrontal</th>\n",
       "      <th>RightCaudate</th>\n",
       "      <th>RightChoroidPlexus</th>\n",
       "      <th>RightCuneus</th>\n",
       "      <th>RightEntorhinal</th>\n",
       "      <th>RightFrontalPole</th>\n",
       "      <th>...</th>\n",
       "      <th>LeftPutamen</th>\n",
       "      <th>LeftRostralAnteriorCingulate</th>\n",
       "      <th>LeftRostralMiddleFrontal</th>\n",
       "      <th>LeftSuperiorFrontal</th>\n",
       "      <th>LeftSuperiorParietal</th>\n",
       "      <th>LeftSuperiorTemporal</th>\n",
       "      <th>LeftSupramarginal</th>\n",
       "      <th>LeftTemporalPole</th>\n",
       "      <th>LeftThalamus</th>\n",
       "      <th>LeftTransverseTemporal</th>\n",
       "    </tr>\n",
       "  </thead>\n",
       "  <tbody>\n",
       "    <tr>\n",
       "      <th>RightAccumbensArea</th>\n",
       "      <td>1.000000</td>\n",
       "      <td>0.517312</td>\n",
       "      <td>0.312466</td>\n",
       "      <td>0.171977</td>\n",
       "      <td>0.268088</td>\n",
       "      <td>0.252343</td>\n",
       "      <td>-0.331535</td>\n",
       "      <td>0.290401</td>\n",
       "      <td>0.401324</td>\n",
       "      <td>0.262888</td>\n",
       "      <td>...</td>\n",
       "      <td>0.481780</td>\n",
       "      <td>0.301113</td>\n",
       "      <td>0.383271</td>\n",
       "      <td>0.448664</td>\n",
       "      <td>0.350115</td>\n",
       "      <td>0.460821</td>\n",
       "      <td>0.406326</td>\n",
       "      <td>0.390991</td>\n",
       "      <td>0.228823</td>\n",
       "      <td>0.245712</td>\n",
       "    </tr>\n",
       "    <tr>\n",
       "      <th>RightAmygdala</th>\n",
       "      <td>0.517312</td>\n",
       "      <td>1.000000</td>\n",
       "      <td>0.396695</td>\n",
       "      <td>0.139362</td>\n",
       "      <td>0.276615</td>\n",
       "      <td>0.147367</td>\n",
       "      <td>-0.247481</td>\n",
       "      <td>0.323866</td>\n",
       "      <td>0.553151</td>\n",
       "      <td>0.313654</td>\n",
       "      <td>...</td>\n",
       "      <td>0.379720</td>\n",
       "      <td>0.301514</td>\n",
       "      <td>0.444215</td>\n",
       "      <td>0.463931</td>\n",
       "      <td>0.365504</td>\n",
       "      <td>0.527257</td>\n",
       "      <td>0.455076</td>\n",
       "      <td>0.479981</td>\n",
       "      <td>0.282623</td>\n",
       "      <td>0.333744</td>\n",
       "    </tr>\n",
       "    <tr>\n",
       "      <th>RightBankssts</th>\n",
       "      <td>0.312466</td>\n",
       "      <td>0.396695</td>\n",
       "      <td>1.000000</td>\n",
       "      <td>0.093094</td>\n",
       "      <td>0.280871</td>\n",
       "      <td>0.130750</td>\n",
       "      <td>-0.156865</td>\n",
       "      <td>0.206382</td>\n",
       "      <td>0.295362</td>\n",
       "      <td>0.265210</td>\n",
       "      <td>...</td>\n",
       "      <td>0.245778</td>\n",
       "      <td>0.296644</td>\n",
       "      <td>0.388486</td>\n",
       "      <td>0.361624</td>\n",
       "      <td>0.280521</td>\n",
       "      <td>0.481548</td>\n",
       "      <td>0.389358</td>\n",
       "      <td>0.266547</td>\n",
       "      <td>0.106353</td>\n",
       "      <td>0.236920</td>\n",
       "    </tr>\n",
       "    <tr>\n",
       "      <th>RightCaudalAnteriorCingulate</th>\n",
       "      <td>0.171977</td>\n",
       "      <td>0.139362</td>\n",
       "      <td>0.093094</td>\n",
       "      <td>1.000000</td>\n",
       "      <td>0.145231</td>\n",
       "      <td>0.052771</td>\n",
       "      <td>-0.107197</td>\n",
       "      <td>0.177053</td>\n",
       "      <td>0.113419</td>\n",
       "      <td>0.162060</td>\n",
       "      <td>...</td>\n",
       "      <td>0.089423</td>\n",
       "      <td>0.202880</td>\n",
       "      <td>0.246909</td>\n",
       "      <td>0.200939</td>\n",
       "      <td>0.149096</td>\n",
       "      <td>0.166728</td>\n",
       "      <td>0.123950</td>\n",
       "      <td>0.195060</td>\n",
       "      <td>0.029744</td>\n",
       "      <td>0.139950</td>\n",
       "    </tr>\n",
       "    <tr>\n",
       "      <th>RightCaudalMiddleFrontal</th>\n",
       "      <td>0.268088</td>\n",
       "      <td>0.276615</td>\n",
       "      <td>0.280871</td>\n",
       "      <td>0.145231</td>\n",
       "      <td>1.000000</td>\n",
       "      <td>0.119865</td>\n",
       "      <td>-0.143873</td>\n",
       "      <td>0.240554</td>\n",
       "      <td>0.197547</td>\n",
       "      <td>0.184955</td>\n",
       "      <td>...</td>\n",
       "      <td>0.196727</td>\n",
       "      <td>0.305890</td>\n",
       "      <td>0.398227</td>\n",
       "      <td>0.459057</td>\n",
       "      <td>0.314966</td>\n",
       "      <td>0.309697</td>\n",
       "      <td>0.354726</td>\n",
       "      <td>0.195053</td>\n",
       "      <td>0.097257</td>\n",
       "      <td>0.243032</td>\n",
       "    </tr>\n",
       "    <tr>\n",
       "      <th>...</th>\n",
       "      <td>...</td>\n",
       "      <td>...</td>\n",
       "      <td>...</td>\n",
       "      <td>...</td>\n",
       "      <td>...</td>\n",
       "      <td>...</td>\n",
       "      <td>...</td>\n",
       "      <td>...</td>\n",
       "      <td>...</td>\n",
       "      <td>...</td>\n",
       "      <td>...</td>\n",
       "      <td>...</td>\n",
       "      <td>...</td>\n",
       "      <td>...</td>\n",
       "      <td>...</td>\n",
       "      <td>...</td>\n",
       "      <td>...</td>\n",
       "      <td>...</td>\n",
       "      <td>...</td>\n",
       "      <td>...</td>\n",
       "      <td>...</td>\n",
       "    </tr>\n",
       "    <tr>\n",
       "      <th>LeftSuperiorTemporal</th>\n",
       "      <td>0.460821</td>\n",
       "      <td>0.527257</td>\n",
       "      <td>0.481548</td>\n",
       "      <td>0.166728</td>\n",
       "      <td>0.309697</td>\n",
       "      <td>0.158834</td>\n",
       "      <td>-0.300030</td>\n",
       "      <td>0.380141</td>\n",
       "      <td>0.374826</td>\n",
       "      <td>0.407297</td>\n",
       "      <td>...</td>\n",
       "      <td>0.413281</td>\n",
       "      <td>0.421814</td>\n",
       "      <td>0.570557</td>\n",
       "      <td>0.595896</td>\n",
       "      <td>0.446876</td>\n",
       "      <td>1.000000</td>\n",
       "      <td>0.607156</td>\n",
       "      <td>0.525077</td>\n",
       "      <td>0.204238</td>\n",
       "      <td>0.501530</td>\n",
       "    </tr>\n",
       "    <tr>\n",
       "      <th>LeftSupramarginal</th>\n",
       "      <td>0.406326</td>\n",
       "      <td>0.455076</td>\n",
       "      <td>0.389358</td>\n",
       "      <td>0.123950</td>\n",
       "      <td>0.354726</td>\n",
       "      <td>0.183157</td>\n",
       "      <td>-0.195929</td>\n",
       "      <td>0.363908</td>\n",
       "      <td>0.333414</td>\n",
       "      <td>0.358930</td>\n",
       "      <td>...</td>\n",
       "      <td>0.346821</td>\n",
       "      <td>0.396962</td>\n",
       "      <td>0.554863</td>\n",
       "      <td>0.575132</td>\n",
       "      <td>0.531343</td>\n",
       "      <td>0.607156</td>\n",
       "      <td>1.000000</td>\n",
       "      <td>0.427774</td>\n",
       "      <td>0.129184</td>\n",
       "      <td>0.431185</td>\n",
       "    </tr>\n",
       "    <tr>\n",
       "      <th>LeftTemporalPole</th>\n",
       "      <td>0.390991</td>\n",
       "      <td>0.479981</td>\n",
       "      <td>0.266547</td>\n",
       "      <td>0.195060</td>\n",
       "      <td>0.195053</td>\n",
       "      <td>0.237387</td>\n",
       "      <td>-0.197143</td>\n",
       "      <td>0.304839</td>\n",
       "      <td>0.389121</td>\n",
       "      <td>0.470964</td>\n",
       "      <td>...</td>\n",
       "      <td>0.395591</td>\n",
       "      <td>0.388123</td>\n",
       "      <td>0.450460</td>\n",
       "      <td>0.446456</td>\n",
       "      <td>0.389846</td>\n",
       "      <td>0.525077</td>\n",
       "      <td>0.427774</td>\n",
       "      <td>1.000000</td>\n",
       "      <td>0.181368</td>\n",
       "      <td>0.333522</td>\n",
       "    </tr>\n",
       "    <tr>\n",
       "      <th>LeftThalamus</th>\n",
       "      <td>0.228823</td>\n",
       "      <td>0.282623</td>\n",
       "      <td>0.106353</td>\n",
       "      <td>0.029744</td>\n",
       "      <td>0.097257</td>\n",
       "      <td>0.062728</td>\n",
       "      <td>-0.162168</td>\n",
       "      <td>0.094065</td>\n",
       "      <td>0.193592</td>\n",
       "      <td>0.142487</td>\n",
       "      <td>...</td>\n",
       "      <td>0.249923</td>\n",
       "      <td>0.005015</td>\n",
       "      <td>0.123402</td>\n",
       "      <td>0.195046</td>\n",
       "      <td>0.118507</td>\n",
       "      <td>0.204238</td>\n",
       "      <td>0.129184</td>\n",
       "      <td>0.181368</td>\n",
       "      <td>1.000000</td>\n",
       "      <td>0.192563</td>\n",
       "    </tr>\n",
       "    <tr>\n",
       "      <th>LeftTransverseTemporal</th>\n",
       "      <td>0.245712</td>\n",
       "      <td>0.333744</td>\n",
       "      <td>0.236920</td>\n",
       "      <td>0.139950</td>\n",
       "      <td>0.243032</td>\n",
       "      <td>0.099541</td>\n",
       "      <td>-0.179901</td>\n",
       "      <td>0.287570</td>\n",
       "      <td>0.201322</td>\n",
       "      <td>0.335211</td>\n",
       "      <td>...</td>\n",
       "      <td>0.252285</td>\n",
       "      <td>0.277509</td>\n",
       "      <td>0.370059</td>\n",
       "      <td>0.450600</td>\n",
       "      <td>0.362116</td>\n",
       "      <td>0.501530</td>\n",
       "      <td>0.431185</td>\n",
       "      <td>0.333522</td>\n",
       "      <td>0.192563</td>\n",
       "      <td>1.000000</td>\n",
       "    </tr>\n",
       "  </tbody>\n",
       "</table>\n",
       "<p>84 rows × 84 columns</p>\n",
       "</div>"
      ],
      "text/plain": [
       "                              RightAccumbensArea  RightAmygdala  \\\n",
       "RightAccumbensArea                      1.000000       0.517312   \n",
       "RightAmygdala                           0.517312       1.000000   \n",
       "RightBankssts                           0.312466       0.396695   \n",
       "RightCaudalAnteriorCingulate            0.171977       0.139362   \n",
       "RightCaudalMiddleFrontal                0.268088       0.276615   \n",
       "...                                          ...            ...   \n",
       "LeftSuperiorTemporal                    0.460821       0.527257   \n",
       "LeftSupramarginal                       0.406326       0.455076   \n",
       "LeftTemporalPole                        0.390991       0.479981   \n",
       "LeftThalamus                            0.228823       0.282623   \n",
       "LeftTransverseTemporal                  0.245712       0.333744   \n",
       "\n",
       "                              RightBankssts  RightCaudalAnteriorCingulate  \\\n",
       "RightAccumbensArea                 0.312466                      0.171977   \n",
       "RightAmygdala                      0.396695                      0.139362   \n",
       "RightBankssts                      1.000000                      0.093094   \n",
       "RightCaudalAnteriorCingulate       0.093094                      1.000000   \n",
       "RightCaudalMiddleFrontal           0.280871                      0.145231   \n",
       "...                                     ...                           ...   \n",
       "LeftSuperiorTemporal               0.481548                      0.166728   \n",
       "LeftSupramarginal                  0.389358                      0.123950   \n",
       "LeftTemporalPole                   0.266547                      0.195060   \n",
       "LeftThalamus                       0.106353                      0.029744   \n",
       "LeftTransverseTemporal             0.236920                      0.139950   \n",
       "\n",
       "                              RightCaudalMiddleFrontal  RightCaudate  \\\n",
       "RightAccumbensArea                            0.268088      0.252343   \n",
       "RightAmygdala                                 0.276615      0.147367   \n",
       "RightBankssts                                 0.280871      0.130750   \n",
       "RightCaudalAnteriorCingulate                  0.145231      0.052771   \n",
       "RightCaudalMiddleFrontal                      1.000000      0.119865   \n",
       "...                                                ...           ...   \n",
       "LeftSuperiorTemporal                          0.309697      0.158834   \n",
       "LeftSupramarginal                             0.354726      0.183157   \n",
       "LeftTemporalPole                              0.195053      0.237387   \n",
       "LeftThalamus                                  0.097257      0.062728   \n",
       "LeftTransverseTemporal                        0.243032      0.099541   \n",
       "\n",
       "                              RightChoroidPlexus  RightCuneus  \\\n",
       "RightAccumbensArea                     -0.331535     0.290401   \n",
       "RightAmygdala                          -0.247481     0.323866   \n",
       "RightBankssts                          -0.156865     0.206382   \n",
       "RightCaudalAnteriorCingulate           -0.107197     0.177053   \n",
       "RightCaudalMiddleFrontal               -0.143873     0.240554   \n",
       "...                                          ...          ...   \n",
       "LeftSuperiorTemporal                   -0.300030     0.380141   \n",
       "LeftSupramarginal                      -0.195929     0.363908   \n",
       "LeftTemporalPole                       -0.197143     0.304839   \n",
       "LeftThalamus                           -0.162168     0.094065   \n",
       "LeftTransverseTemporal                 -0.179901     0.287570   \n",
       "\n",
       "                              RightEntorhinal  RightFrontalPole  ...  \\\n",
       "RightAccumbensArea                   0.401324          0.262888  ...   \n",
       "RightAmygdala                        0.553151          0.313654  ...   \n",
       "RightBankssts                        0.295362          0.265210  ...   \n",
       "RightCaudalAnteriorCingulate         0.113419          0.162060  ...   \n",
       "RightCaudalMiddleFrontal             0.197547          0.184955  ...   \n",
       "...                                       ...               ...  ...   \n",
       "LeftSuperiorTemporal                 0.374826          0.407297  ...   \n",
       "LeftSupramarginal                    0.333414          0.358930  ...   \n",
       "LeftTemporalPole                     0.389121          0.470964  ...   \n",
       "LeftThalamus                         0.193592          0.142487  ...   \n",
       "LeftTransverseTemporal               0.201322          0.335211  ...   \n",
       "\n",
       "                              LeftPutamen  LeftRostralAnteriorCingulate  \\\n",
       "RightAccumbensArea               0.481780                      0.301113   \n",
       "RightAmygdala                    0.379720                      0.301514   \n",
       "RightBankssts                    0.245778                      0.296644   \n",
       "RightCaudalAnteriorCingulate     0.089423                      0.202880   \n",
       "RightCaudalMiddleFrontal         0.196727                      0.305890   \n",
       "...                                   ...                           ...   \n",
       "LeftSuperiorTemporal             0.413281                      0.421814   \n",
       "LeftSupramarginal                0.346821                      0.396962   \n",
       "LeftTemporalPole                 0.395591                      0.388123   \n",
       "LeftThalamus                     0.249923                      0.005015   \n",
       "LeftTransverseTemporal           0.252285                      0.277509   \n",
       "\n",
       "                              LeftRostralMiddleFrontal  LeftSuperiorFrontal  \\\n",
       "RightAccumbensArea                            0.383271             0.448664   \n",
       "RightAmygdala                                 0.444215             0.463931   \n",
       "RightBankssts                                 0.388486             0.361624   \n",
       "RightCaudalAnteriorCingulate                  0.246909             0.200939   \n",
       "RightCaudalMiddleFrontal                      0.398227             0.459057   \n",
       "...                                                ...                  ...   \n",
       "LeftSuperiorTemporal                          0.570557             0.595896   \n",
       "LeftSupramarginal                             0.554863             0.575132   \n",
       "LeftTemporalPole                              0.450460             0.446456   \n",
       "LeftThalamus                                  0.123402             0.195046   \n",
       "LeftTransverseTemporal                        0.370059             0.450600   \n",
       "\n",
       "                              LeftSuperiorParietal  LeftSuperiorTemporal  \\\n",
       "RightAccumbensArea                        0.350115              0.460821   \n",
       "RightAmygdala                             0.365504              0.527257   \n",
       "RightBankssts                             0.280521              0.481548   \n",
       "RightCaudalAnteriorCingulate              0.149096              0.166728   \n",
       "RightCaudalMiddleFrontal                  0.314966              0.309697   \n",
       "...                                            ...                   ...   \n",
       "LeftSuperiorTemporal                      0.446876              1.000000   \n",
       "LeftSupramarginal                         0.531343              0.607156   \n",
       "LeftTemporalPole                          0.389846              0.525077   \n",
       "LeftThalamus                              0.118507              0.204238   \n",
       "LeftTransverseTemporal                    0.362116              0.501530   \n",
       "\n",
       "                              LeftSupramarginal  LeftTemporalPole  \\\n",
       "RightAccumbensArea                     0.406326          0.390991   \n",
       "RightAmygdala                          0.455076          0.479981   \n",
       "RightBankssts                          0.389358          0.266547   \n",
       "RightCaudalAnteriorCingulate           0.123950          0.195060   \n",
       "RightCaudalMiddleFrontal               0.354726          0.195053   \n",
       "...                                         ...               ...   \n",
       "LeftSuperiorTemporal                   0.607156          0.525077   \n",
       "LeftSupramarginal                      1.000000          0.427774   \n",
       "LeftTemporalPole                       0.427774          1.000000   \n",
       "LeftThalamus                           0.129184          0.181368   \n",
       "LeftTransverseTemporal                 0.431185          0.333522   \n",
       "\n",
       "                              LeftThalamus  LeftTransverseTemporal  \n",
       "RightAccumbensArea                0.228823                0.245712  \n",
       "RightAmygdala                     0.282623                0.333744  \n",
       "RightBankssts                     0.106353                0.236920  \n",
       "RightCaudalAnteriorCingulate      0.029744                0.139950  \n",
       "RightCaudalMiddleFrontal          0.097257                0.243032  \n",
       "...                                    ...                     ...  \n",
       "LeftSuperiorTemporal              0.204238                0.501530  \n",
       "LeftSupramarginal                 0.129184                0.431185  \n",
       "LeftTemporalPole                  0.181368                0.333522  \n",
       "LeftThalamus                      1.000000                0.192563  \n",
       "LeftTransverseTemporal            0.192563                1.000000  \n",
       "\n",
       "[84 rows x 84 columns]"
      ]
     },
     "execution_count": 10,
     "metadata": {},
     "output_type": "execute_result"
    }
   ],
   "source": [
    "# normalizamos los datos con la función anterior y generamos una matriz de correlaciones\n",
    "\n",
    "brain_norm = norm_df(brain_num)\n",
    "\n",
    "brain_corr = brain_norm.corr()\n",
    "brain_corr"
   ]
  },
  {
   "cell_type": "code",
   "execution_count": 11,
   "id": "a5ac7578",
   "metadata": {},
   "outputs": [
    {
     "data": {
      "image/png": "[encoded data removed]",
      "text/plain": [
       "<Figure size 432x288 with 2 Axes>"
      ]
     },
     "metadata": {
      "needs_background": "light"
     },
     "output_type": "display_data"
    }
   ],
   "source": [
    "sns.heatmap(brain_corr, cmap=\"gist_stern\")\n",
    "plt.show()"
   ]
  },
  {
   "cell_type": "markdown",
   "id": "a09de017",
   "metadata": {},
   "source": [
    "En este plot se puede apreciar como hay una diagonal principal y luego dos diagnoales secundarias. Y como de manera general todas las áreas cerebrales tienen una correlación positiva entre ellas. A excepción de las áreas de Choroid Plexus que tienen correlaciones negativas con las demás áreas. \n",
    "\n",
    "Las áreas cerebrales también tienen una correlación muy alta con su misma área en el otro hemisferio. Como se puede apreciar mirando las dos diagonales secundarias.\n",
    "\n",
    "Al tener valores de correlación muy altas las variables. Significa que hay mucha redundancia en los datos y que podemos utilizar una PCA para reducir dicho problema.\n",
    "\n",
    "Si buscamos información sobre esta área vemos como no es un área cerebral propiamente, sino que es una capa de células que recubren los ventrículos.\n",
    "https://es.wikipedia.org/wiki/Plexos_coroideos\n",
    "\n",
    "En este caso, lo mejor será eliminar estos dos atributos de los datos.\n"
   ]
  },
  {
   "cell_type": "code",
   "execution_count": 12,
   "id": "6d47fee6",
   "metadata": {},
   "outputs": [
    {
     "data": {
      "image/png": "[encoded data removed]",
      "text/plain": [
       "<Figure size 432x288 with 2 Axes>"
      ]
     },
     "metadata": {
      "needs_background": "light"
     },
     "output_type": "display_data"
    }
   ],
   "source": [
    "brain_num_cl = brain_num.drop(\n",
    "    columns = ['LeftChoroidPlexus', 'RightChoroidPlexus'])\n",
    "\n",
    "brain_norm = norm_df(brain_num_cl)\n",
    "\n",
    "brain_corr = brain_norm.corr()\n",
    "\n",
    "sns.heatmap(brain_corr, cmap=\"gist_stern\")\n",
    "plt.show()"
   ]
  },
  {
   "cell_type": "markdown",
   "id": "a9a4ad04",
   "metadata": {},
   "source": [
    "Con este pequeño cambio han desaparecido las correlaciones negativas del dataset."
   ]
  },
  {
   "cell_type": "markdown",
   "id": "4b69d5d6",
   "metadata": {},
   "source": [
    "## Obtener los Componentes principales.\n",
    "\n",
    "Mediante la técnica de Singular Value Decomposition (SVD) se puede descomponer una matrix en tres matrices distintas, donde cada vector de la matrix Vt corresponde a un componente principal. De manera que el primer vector es el primer componente y el n vector corresponde al n componente principal.\n",
    "\n",
    "Está técnica es especialmente útil para reducir el número de dimensiones, pero manteniendo la máxima cantidad de varianza."
   ]
  },
  {
   "cell_type": "code",
   "execution_count": 13,
   "id": "95f193f2",
   "metadata": {
    "scrolled": true
   },
   "outputs": [
    {
     "data": {
      "text/plain": [
       "array([-0.10860999, -0.1220315 , -0.09395271, -0.04856471, -0.08424223,\n",
       "       -0.05156033, -0.10435583, -0.09023743, -0.10060189, -0.13223497])"
      ]
     },
     "execution_count": 13,
     "metadata": {},
     "output_type": "execute_result"
    }
   ],
   "source": [
    "U, s, Vt = np.linalg.svd(brain_corr) # svd\n",
    "\n",
    "pc1 = Vt.T[:, 0] # primer componente de la PCA\n",
    "pc1[:10]"
   ]
  },
  {
   "cell_type": "markdown",
   "id": "59f9b8b1",
   "metadata": {},
   "source": [
    "También podemos obtener estos componentes mediante los eigenvalues:"
   ]
  },
  {
   "cell_type": "code",
   "execution_count": 14,
   "id": "bd39f923",
   "metadata": {},
   "outputs": [],
   "source": [
    "eigen_values, eigen_vectors = np.linalg.eig(brain_corr)"
   ]
  },
  {
   "cell_type": "code",
   "execution_count": 15,
   "id": "3180f988",
   "metadata": {},
   "outputs": [
    {
     "data": {
      "text/plain": [
       "3.9648638897094286"
      ]
     },
     "execution_count": 15,
     "metadata": {},
     "output_type": "execute_result"
    }
   ],
   "source": [
    "s[1]"
   ]
  },
  {
   "cell_type": "code",
   "execution_count": 16,
   "id": "a797fa84",
   "metadata": {},
   "outputs": [
    {
     "data": {
      "text/plain": [
       "array([31.16228492,  3.96486389,  3.15671231,  2.50956815,  2.21700339,\n",
       "        1.97247424,  1.48789801,  1.42173626,  1.32327953,  1.21961729,\n",
       "        1.17969576,  1.12318776,  1.08852918,  1.00184782,  0.98968579,\n",
       "        0.94285132,  0.92122792,  0.84858801,  0.84774007,  0.78703219,\n",
       "        0.7707635 ,  0.74705594,  0.72322914,  0.68479101,  0.67216089,\n",
       "        0.65158382,  0.61126185,  0.59056954,  0.58087575,  0.56008723,\n",
       "        0.54902597,  0.53891809,  0.52488723,  0.51035639,  0.49533092,\n",
       "        0.48091478,  0.47654693,  0.46757831,  0.45857355,  0.43759048,\n",
       "        0.41574647,  0.41389261,  0.40100409,  0.39628581,  0.39187331,\n",
       "        0.38032909,  0.37130948,  0.35757079,  0.35123476,  0.34503829,\n",
       "        0.33572797,  0.32424417,  0.32229723,  0.30917896,  0.29514879,\n",
       "        0.29439091,  0.28669491,  0.27611453,  0.26511541,  0.25109407,\n",
       "        0.24596836,  0.23571275,  0.23228808,  0.22619398,  0.22221777,\n",
       "        0.20885841,  0.20142974,  0.19375301,  0.18531679,  0.17757495,\n",
       "        0.16080099,  0.15569633,  0.14661618,  0.14282099,  0.14066212,\n",
       "        0.11980183,  0.11537697,  0.10138689,  0.08996558,  0.08284808,\n",
       "        0.06917249,  0.06332094])"
      ]
     },
     "execution_count": 16,
     "metadata": {},
     "output_type": "execute_result"
    }
   ],
   "source": [
    "s.T"
   ]
  },
  {
   "cell_type": "code",
   "execution_count": 17,
   "id": "87fa4ff4",
   "metadata": {},
   "outputs": [
    {
     "data": {
      "text/plain": [
       "82"
      ]
     },
     "execution_count": 17,
     "metadata": {},
     "output_type": "execute_result"
    }
   ],
   "source": [
    "len(s)"
   ]
  },
  {
   "cell_type": "markdown",
   "id": "16515661",
   "metadata": {},
   "source": [
    "Una vez tenemos los componentes, podemos calcular la variabilidad que cada uno de ellos retiene.\n",
    "\n",
    "Esto es útil para seleccionar el número de componentes que dejaremos para entrenar el modelo final. "
   ]
  },
  {
   "cell_type": "code",
   "execution_count": 18,
   "id": "682fe365",
   "metadata": {},
   "outputs": [
    {
     "name": "stdout",
     "output_type": "stream",
     "text": [
      "Varianza explicada por las Primeras 5 Componentes:\n",
      "\n",
      " [0.3800278649172467, 0.04835199865499302, 0.03849649162892398, 0.030604489576764326, 0.027036626686751206] \n",
      "\n",
      "Varianza acumulada por las Primeras 5 Componentes:\n",
      "\n",
      " [0.0, 0.0, 0.04835199865499302, 0.086848490283917, 0.11745297986068133]\n"
     ]
    }
   ],
   "source": [
    "var_pc = []\n",
    "val_pc = []\n",
    "\n",
    "for i in range(0, len(s)):\n",
    "    var_pci = sum(s[1:i]) / sum(s)\n",
    "    pci_val = s[i] / sum(s)\n",
    "    var_pc.append(var_pci)\n",
    "    val_pc.append(pci_val)\n",
    "    \n",
    "print('Varianza explicada por las Primeras 5 Componentes:\\n\\n',\n",
    "      val_pc[:5], '\\n')\n",
    "\n",
    "print('Varianza acumulada por las Primeras 5 Componentes:\\n\\n',\n",
    "      var_pc[:5])\n"
   ]
  },
  {
   "cell_type": "code",
   "execution_count": 19,
   "id": "28084152",
   "metadata": {},
   "outputs": [
    {
     "data": {
      "image/png": "[encoded data removed]",
      "text/plain": [
       "<Figure size 432x288 with 1 Axes>"
      ]
     },
     "metadata": {
      "needs_background": "light"
     },
     "output_type": "display_data"
    }
   ],
   "source": [
    "plt.plot()\n",
    "\n",
    "plt.bar(np.linspace(0, 81, 82), val_pc)\n",
    "\n",
    "plt.show()"
   ]
  },
  {
   "cell_type": "markdown",
   "id": "6e5eea47",
   "metadata": {},
   "source": [
    "Se puede ver muy claramente como hay una gran diferencia entre la variablidad explicada por la primera componente y las demás. Esto demuestra que efectivamente hay mucha redundancia en los datos y que el uso de componentes principales para reducir la dimensionalidad puede ser de buena ayuda en este problema.\n",
    "\n",
    "La primera componente explica un 37.5% de toda la varianza. De manera que de 84 variables hemos visto como con un único componente se puede explicar gran parte de toda la varianza y que existe mucha redundacia en los atributos del dataset."
   ]
  },
  {
   "cell_type": "markdown",
   "id": "71f81dab",
   "metadata": {},
   "source": [
    "### Seleccionar el Número de Componentes Principales "
   ]
  },
  {
   "cell_type": "markdown",
   "id": "72e2bd0d",
   "metadata": {},
   "source": [
    "Un método para seleccionar el número de Componentes Principales es el método de Káiser. Para esto se seleccionan los componentes que tienen un eigenvalue > 1. Este valor indica que el Componente Principal i representa más varianza que una de las variables originales. Este método sólo se puede llevar a cabo cuando los datos están estandarizados. "
   ]
  },
  {
   "cell_type": "code",
   "execution_count": 20,
   "id": "4d02824b",
   "metadata": {},
   "outputs": [
    {
     "data": {
      "text/plain": [
       "array([31.16228492,  3.96486389,  3.15671231,  2.50956815,  2.21700339,\n",
       "        1.97247424,  1.48789801,  1.42173626,  1.32327953,  1.21961729,\n",
       "        1.17969576,  1.12318776,  1.08852918,  1.00184782,  0.98968579,\n",
       "        0.94285132,  0.92122792,  0.84858801,  0.84774007,  0.78703219])"
      ]
     },
     "execution_count": 20,
     "metadata": {},
     "output_type": "execute_result"
    }
   ],
   "source": [
    "eigen_values[:20]"
   ]
  },
  {
   "cell_type": "code",
   "execution_count": 21,
   "id": "78db4648",
   "metadata": {},
   "outputs": [
    {
     "data": {
      "text/plain": [
       "array([31.16228492,  3.96486389,  3.15671231,  2.50956815,  2.21700339,\n",
       "        1.97247424,  1.48789801,  1.42173626,  1.32327953,  1.21961729,\n",
       "        1.17969576,  1.12318776,  1.08852918,  1.00184782])"
      ]
     },
     "execution_count": 21,
     "metadata": {},
     "output_type": "execute_result"
    }
   ],
   "source": [
    "eigen_values[:14]"
   ]
  },
  {
   "cell_type": "markdown",
   "id": "b9a97431",
   "metadata": {},
   "source": [
    "De manera que tenemos que los primeros 14 componentes principales tienen un valor > 1 y los podríamos seleccionar."
   ]
  },
  {
   "cell_type": "code",
   "execution_count": 22,
   "id": "c790b37d",
   "metadata": {},
   "outputs": [
    {
     "data": {
      "text/plain": [
       "array([[-0.10860999, -0.14083356,  0.0661639 , ..., -0.1004619 ,\n",
       "         0.01551136, -0.16012917],\n",
       "       [-0.1220315 , -0.21444651, -0.05314359, ...,  0.10894422,\n",
       "        -0.00732804, -0.09598564],\n",
       "       [-0.09395271, -0.07416537, -0.10856571, ..., -0.1355926 ,\n",
       "         0.1936818 ,  0.21665025],\n",
       "       ...,\n",
       "       [-0.11713258, -0.06680295,  0.03205836, ...,  0.04521488,\n",
       "        -0.03613516,  0.01582951],\n",
       "       [-0.04644907, -0.17455873,  0.13870428, ...,  0.25628063,\n",
       "         0.07818219,  0.11434986],\n",
       "       [-0.09732977,  0.05969731, -0.00557853, ..., -0.01816801,\n",
       "         0.15551541, -0.06018609]])"
      ]
     },
     "execution_count": 22,
     "metadata": {},
     "output_type": "execute_result"
    }
   ],
   "source": [
    "# 14 componentes principales\n",
    "\n",
    "pc1_14 = Vt.T[:, 0:14]\n",
    "pc1_14"
   ]
  },
  {
   "cell_type": "markdown",
   "id": "cb5bc453",
   "metadata": {},
   "source": [
    "Una vez hemos selecionados el número de componentes principales, podemos transformar los datos para reducir el número de dimensiones del dataset original. Para hacerlo, múltiplicamos la matriz de los datos originales junto con la matriz de los primero 14 componentes.\n",
    "\n",
    "Para eso, es necesario que el número de columnas de la matrix de los datos originales (brain_num) sea igual al número de filas de la matrix de los componentes principales. \n",
    "\n",
    "Con la función shape, podemos ver si se cumple esta condición y obtener la matrix que resulta de la multiplicación."
   ]
  },
  {
   "cell_type": "code",
   "execution_count": 23,
   "id": "b0d16d7d",
   "metadata": {},
   "outputs": [
    {
     "data": {
      "text/plain": [
       "(82, 14)"
      ]
     },
     "execution_count": 23,
     "metadata": {},
     "output_type": "execute_result"
    }
   ],
   "source": [
    "pc1_14.shape"
   ]
  },
  {
   "cell_type": "code",
   "execution_count": 24,
   "id": "18cf7e1f",
   "metadata": {},
   "outputs": [
    {
     "data": {
      "text/plain": [
       "(855, 82)"
      ]
     },
     "execution_count": 24,
     "metadata": {},
     "output_type": "execute_result"
    }
   ],
   "source": [
    "brain_num_cl.shape"
   ]
  },
  {
   "cell_type": "code",
   "execution_count": 26,
   "id": "1b38a657",
   "metadata": {},
   "outputs": [
    {
     "data": {
      "text/html": [
       "<div>\n",
       "<style scoped>\n",
       "    .dataframe tbody tr th:only-of-type {\n",
       "        vertical-align: middle;\n",
       "    }\n",
       "\n",
       "    .dataframe tbody tr th {\n",
       "        vertical-align: top;\n",
       "    }\n",
       "\n",
       "    .dataframe thead th {\n",
       "        text-align: right;\n",
       "    }\n",
       "</style>\n",
       "<table border=\"1\" class=\"dataframe\">\n",
       "  <thead>\n",
       "    <tr style=\"text-align: right;\">\n",
       "      <th></th>\n",
       "      <th>0</th>\n",
       "      <th>1</th>\n",
       "      <th>2</th>\n",
       "      <th>3</th>\n",
       "      <th>4</th>\n",
       "      <th>5</th>\n",
       "      <th>6</th>\n",
       "      <th>7</th>\n",
       "      <th>8</th>\n",
       "      <th>9</th>\n",
       "      <th>10</th>\n",
       "      <th>11</th>\n",
       "      <th>12</th>\n",
       "      <th>13</th>\n",
       "    </tr>\n",
       "  </thead>\n",
       "  <tbody>\n",
       "    <tr>\n",
       "      <th>0</th>\n",
       "      <td>-3.120920</td>\n",
       "      <td>0.311297</td>\n",
       "      <td>-0.207844</td>\n",
       "      <td>-0.238248</td>\n",
       "      <td>1.059452</td>\n",
       "      <td>0.366266</td>\n",
       "      <td>-0.219164</td>\n",
       "      <td>0.080433</td>\n",
       "      <td>0.353756</td>\n",
       "      <td>-0.399241</td>\n",
       "      <td>0.441496</td>\n",
       "      <td>0.126314</td>\n",
       "      <td>0.211477</td>\n",
       "      <td>-0.145734</td>\n",
       "    </tr>\n",
       "    <tr>\n",
       "      <th>1</th>\n",
       "      <td>-2.764124</td>\n",
       "      <td>0.348425</td>\n",
       "      <td>0.017874</td>\n",
       "      <td>-0.314291</td>\n",
       "      <td>0.823108</td>\n",
       "      <td>0.335469</td>\n",
       "      <td>-0.271126</td>\n",
       "      <td>0.060692</td>\n",
       "      <td>0.278500</td>\n",
       "      <td>-0.370917</td>\n",
       "      <td>0.301974</td>\n",
       "      <td>0.058318</td>\n",
       "      <td>0.217246</td>\n",
       "      <td>-0.097525</td>\n",
       "    </tr>\n",
       "    <tr>\n",
       "      <th>2</th>\n",
       "      <td>-3.367002</td>\n",
       "      <td>0.264224</td>\n",
       "      <td>-0.329327</td>\n",
       "      <td>-0.369807</td>\n",
       "      <td>1.067295</td>\n",
       "      <td>0.205981</td>\n",
       "      <td>-0.361808</td>\n",
       "      <td>0.100209</td>\n",
       "      <td>0.376015</td>\n",
       "      <td>-0.490057</td>\n",
       "      <td>0.400539</td>\n",
       "      <td>-0.022170</td>\n",
       "      <td>0.008073</td>\n",
       "      <td>-0.016738</td>\n",
       "    </tr>\n",
       "    <tr>\n",
       "      <th>3</th>\n",
       "      <td>-3.460745</td>\n",
       "      <td>0.459035</td>\n",
       "      <td>-0.070624</td>\n",
       "      <td>-0.312577</td>\n",
       "      <td>1.066562</td>\n",
       "      <td>0.561834</td>\n",
       "      <td>-0.244161</td>\n",
       "      <td>0.026911</td>\n",
       "      <td>0.374442</td>\n",
       "      <td>-0.440668</td>\n",
       "      <td>0.511718</td>\n",
       "      <td>0.028147</td>\n",
       "      <td>0.177729</td>\n",
       "      <td>-0.125162</td>\n",
       "    </tr>\n",
       "    <tr>\n",
       "      <th>4</th>\n",
       "      <td>-3.397274</td>\n",
       "      <td>0.315061</td>\n",
       "      <td>-0.334642</td>\n",
       "      <td>-0.316144</td>\n",
       "      <td>1.073429</td>\n",
       "      <td>0.395777</td>\n",
       "      <td>-0.276566</td>\n",
       "      <td>0.052574</td>\n",
       "      <td>0.290454</td>\n",
       "      <td>-0.395371</td>\n",
       "      <td>0.497571</td>\n",
       "      <td>0.101695</td>\n",
       "      <td>0.105560</td>\n",
       "      <td>-0.076438</td>\n",
       "    </tr>\n",
       "  </tbody>\n",
       "</table>\n",
       "</div>"
      ],
      "text/plain": [
       "         0         1         2         3         4         5         6   \\\n",
       "0 -3.120920  0.311297 -0.207844 -0.238248  1.059452  0.366266 -0.219164   \n",
       "1 -2.764124  0.348425  0.017874 -0.314291  0.823108  0.335469 -0.271126   \n",
       "2 -3.367002  0.264224 -0.329327 -0.369807  1.067295  0.205981 -0.361808   \n",
       "3 -3.460745  0.459035 -0.070624 -0.312577  1.066562  0.561834 -0.244161   \n",
       "4 -3.397274  0.315061 -0.334642 -0.316144  1.073429  0.395777 -0.276566   \n",
       "\n",
       "         7         8         9         10        11        12        13  \n",
       "0  0.080433  0.353756 -0.399241  0.441496  0.126314  0.211477 -0.145734  \n",
       "1  0.060692  0.278500 -0.370917  0.301974  0.058318  0.217246 -0.097525  \n",
       "2  0.100209  0.376015 -0.490057  0.400539 -0.022170  0.008073 -0.016738  \n",
       "3  0.026911  0.374442 -0.440668  0.511718  0.028147  0.177729 -0.125162  \n",
       "4  0.052574  0.290454 -0.395371  0.497571  0.101695  0.105560 -0.076438  "
      ]
     },
     "execution_count": 26,
     "metadata": {},
     "output_type": "execute_result"
    }
   ],
   "source": [
    "brain_red = brain_num_cl.dot(pc1_14)\n",
    "brain_red.head()"
   ]
  },
  {
   "cell_type": "code",
   "execution_count": 27,
   "id": "699dd5b7",
   "metadata": {},
   "outputs": [],
   "source": [
    "brain_red['Subject'] = brain['Subject']"
   ]
  },
  {
   "cell_type": "code",
   "execution_count": 28,
   "id": "8137154b",
   "metadata": {},
   "outputs": [
    {
     "data": {
      "text/html": [
       "<div>\n",
       "<style scoped>\n",
       "    .dataframe tbody tr th:only-of-type {\n",
       "        vertical-align: middle;\n",
       "    }\n",
       "\n",
       "    .dataframe tbody tr th {\n",
       "        vertical-align: top;\n",
       "    }\n",
       "\n",
       "    .dataframe thead th {\n",
       "        text-align: right;\n",
       "    }\n",
       "</style>\n",
       "<table border=\"1\" class=\"dataframe\">\n",
       "  <thead>\n",
       "    <tr style=\"text-align: right;\">\n",
       "      <th></th>\n",
       "      <th>0</th>\n",
       "      <th>1</th>\n",
       "      <th>2</th>\n",
       "      <th>3</th>\n",
       "      <th>4</th>\n",
       "      <th>5</th>\n",
       "      <th>6</th>\n",
       "      <th>7</th>\n",
       "      <th>8</th>\n",
       "      <th>9</th>\n",
       "      <th>10</th>\n",
       "      <th>11</th>\n",
       "      <th>12</th>\n",
       "      <th>13</th>\n",
       "      <th>Subject</th>\n",
       "    </tr>\n",
       "  </thead>\n",
       "  <tbody>\n",
       "    <tr>\n",
       "      <th>0</th>\n",
       "      <td>-3.120920</td>\n",
       "      <td>0.311297</td>\n",
       "      <td>-0.207844</td>\n",
       "      <td>-0.238248</td>\n",
       "      <td>1.059452</td>\n",
       "      <td>0.366266</td>\n",
       "      <td>-0.219164</td>\n",
       "      <td>0.080433</td>\n",
       "      <td>0.353756</td>\n",
       "      <td>-0.399241</td>\n",
       "      <td>0.441496</td>\n",
       "      <td>0.126314</td>\n",
       "      <td>0.211477</td>\n",
       "      <td>-0.145734</td>\n",
       "      <td>011_S_0002_bl</td>\n",
       "    </tr>\n",
       "    <tr>\n",
       "      <th>1</th>\n",
       "      <td>-2.764124</td>\n",
       "      <td>0.348425</td>\n",
       "      <td>0.017874</td>\n",
       "      <td>-0.314291</td>\n",
       "      <td>0.823108</td>\n",
       "      <td>0.335469</td>\n",
       "      <td>-0.271126</td>\n",
       "      <td>0.060692</td>\n",
       "      <td>0.278500</td>\n",
       "      <td>-0.370917</td>\n",
       "      <td>0.301974</td>\n",
       "      <td>0.058318</td>\n",
       "      <td>0.217246</td>\n",
       "      <td>-0.097525</td>\n",
       "      <td>011_S_0003_bl</td>\n",
       "    </tr>\n",
       "    <tr>\n",
       "      <th>2</th>\n",
       "      <td>-3.367002</td>\n",
       "      <td>0.264224</td>\n",
       "      <td>-0.329327</td>\n",
       "      <td>-0.369807</td>\n",
       "      <td>1.067295</td>\n",
       "      <td>0.205981</td>\n",
       "      <td>-0.361808</td>\n",
       "      <td>0.100209</td>\n",
       "      <td>0.376015</td>\n",
       "      <td>-0.490057</td>\n",
       "      <td>0.400539</td>\n",
       "      <td>-0.022170</td>\n",
       "      <td>0.008073</td>\n",
       "      <td>-0.016738</td>\n",
       "      <td>011_S_0005_bl</td>\n",
       "    </tr>\n",
       "    <tr>\n",
       "      <th>3</th>\n",
       "      <td>-3.460745</td>\n",
       "      <td>0.459035</td>\n",
       "      <td>-0.070624</td>\n",
       "      <td>-0.312577</td>\n",
       "      <td>1.066562</td>\n",
       "      <td>0.561834</td>\n",
       "      <td>-0.244161</td>\n",
       "      <td>0.026911</td>\n",
       "      <td>0.374442</td>\n",
       "      <td>-0.440668</td>\n",
       "      <td>0.511718</td>\n",
       "      <td>0.028147</td>\n",
       "      <td>0.177729</td>\n",
       "      <td>-0.125162</td>\n",
       "      <td>022_S_0007_bl</td>\n",
       "    </tr>\n",
       "    <tr>\n",
       "      <th>4</th>\n",
       "      <td>-3.397274</td>\n",
       "      <td>0.315061</td>\n",
       "      <td>-0.334642</td>\n",
       "      <td>-0.316144</td>\n",
       "      <td>1.073429</td>\n",
       "      <td>0.395777</td>\n",
       "      <td>-0.276566</td>\n",
       "      <td>0.052574</td>\n",
       "      <td>0.290454</td>\n",
       "      <td>-0.395371</td>\n",
       "      <td>0.497571</td>\n",
       "      <td>0.101695</td>\n",
       "      <td>0.105560</td>\n",
       "      <td>-0.076438</td>\n",
       "      <td>011_S_0008_bl</td>\n",
       "    </tr>\n",
       "  </tbody>\n",
       "</table>\n",
       "</div>"
      ],
      "text/plain": [
       "          0         1         2         3         4         5         6  \\\n",
       "0 -3.120920  0.311297 -0.207844 -0.238248  1.059452  0.366266 -0.219164   \n",
       "1 -2.764124  0.348425  0.017874 -0.314291  0.823108  0.335469 -0.271126   \n",
       "2 -3.367002  0.264224 -0.329327 -0.369807  1.067295  0.205981 -0.361808   \n",
       "3 -3.460745  0.459035 -0.070624 -0.312577  1.066562  0.561834 -0.244161   \n",
       "4 -3.397274  0.315061 -0.334642 -0.316144  1.073429  0.395777 -0.276566   \n",
       "\n",
       "          7         8         9        10        11        12        13  \\\n",
       "0  0.080433  0.353756 -0.399241  0.441496  0.126314  0.211477 -0.145734   \n",
       "1  0.060692  0.278500 -0.370917  0.301974  0.058318  0.217246 -0.097525   \n",
       "2  0.100209  0.376015 -0.490057  0.400539 -0.022170  0.008073 -0.016738   \n",
       "3  0.026911  0.374442 -0.440668  0.511718  0.028147  0.177729 -0.125162   \n",
       "4  0.052574  0.290454 -0.395371  0.497571  0.101695  0.105560 -0.076438   \n",
       "\n",
       "         Subject  \n",
       "0  011_S_0002_bl  \n",
       "1  011_S_0003_bl  \n",
       "2  011_S_0005_bl  \n",
       "3  022_S_0007_bl  \n",
       "4  011_S_0008_bl  "
      ]
     },
     "execution_count": 28,
     "metadata": {},
     "output_type": "execute_result"
    }
   ],
   "source": [
    "brain_red.head()"
   ]
  },
  {
   "cell_type": "markdown",
   "id": "1e5375b2",
   "metadata": {},
   "source": [
    "Por último, juntamos los dos datasets y podemos emplearlos para elaborar un modelo."
   ]
  },
  {
   "cell_type": "code",
   "execution_count": 33,
   "id": "4e3edfd6",
   "metadata": {},
   "outputs": [
    {
     "data": {
      "text/html": [
       "<div>\n",
       "<style scoped>\n",
       "    .dataframe tbody tr th:only-of-type {\n",
       "        vertical-align: middle;\n",
       "    }\n",
       "\n",
       "    .dataframe tbody tr th {\n",
       "        vertical-align: top;\n",
       "    }\n",
       "\n",
       "    .dataframe thead th {\n",
       "        text-align: right;\n",
       "    }\n",
       "</style>\n",
       "<table border=\"1\" class=\"dataframe\">\n",
       "  <thead>\n",
       "    <tr style=\"text-align: right;\">\n",
       "      <th></th>\n",
       "      <th>Subject</th>\n",
       "      <th>AGE</th>\n",
       "      <th>DX</th>\n",
       "    </tr>\n",
       "  </thead>\n",
       "  <tbody>\n",
       "    <tr>\n",
       "      <th>0</th>\n",
       "      <td>011_S_0002_bl</td>\n",
       "      <td>74.3</td>\n",
       "      <td>0.0</td>\n",
       "    </tr>\n",
       "    <tr>\n",
       "      <th>1</th>\n",
       "      <td>011_S_0003_bl</td>\n",
       "      <td>81.3</td>\n",
       "      <td>1.0</td>\n",
       "    </tr>\n",
       "    <tr>\n",
       "      <th>2</th>\n",
       "      <td>011_S_0005_bl</td>\n",
       "      <td>73.7</td>\n",
       "      <td>0.0</td>\n",
       "    </tr>\n",
       "    <tr>\n",
       "      <th>3</th>\n",
       "      <td>022_S_0007_bl</td>\n",
       "      <td>75.4</td>\n",
       "      <td>1.0</td>\n",
       "    </tr>\n",
       "    <tr>\n",
       "      <th>4</th>\n",
       "      <td>011_S_0008_bl</td>\n",
       "      <td>84.5</td>\n",
       "      <td>0.0</td>\n",
       "    </tr>\n",
       "  </tbody>\n",
       "</table>\n",
       "</div>"
      ],
      "text/plain": [
       "         Subject   AGE   DX\n",
       "0  011_S_0002_bl  74.3  0.0\n",
       "1  011_S_0003_bl  81.3  1.0\n",
       "2  011_S_0005_bl  73.7  0.0\n",
       "3  022_S_0007_bl  75.4  1.0\n",
       "4  011_S_0008_bl  84.5  0.0"
      ]
     },
     "execution_count": 33,
     "metadata": {},
     "output_type": "execute_result"
    }
   ],
   "source": [
    "diagn.head()"
   ]
  },
  {
   "cell_type": "code",
   "execution_count": 35,
   "id": "d5a5d646",
   "metadata": {},
   "outputs": [
    {
     "data": {
      "text/html": [
       "<div>\n",
       "<style scoped>\n",
       "    .dataframe tbody tr th:only-of-type {\n",
       "        vertical-align: middle;\n",
       "    }\n",
       "\n",
       "    .dataframe tbody tr th {\n",
       "        vertical-align: top;\n",
       "    }\n",
       "\n",
       "    .dataframe thead th {\n",
       "        text-align: right;\n",
       "    }\n",
       "</style>\n",
       "<table border=\"1\" class=\"dataframe\">\n",
       "  <thead>\n",
       "    <tr style=\"text-align: right;\">\n",
       "      <th></th>\n",
       "      <th>0</th>\n",
       "      <th>1</th>\n",
       "      <th>2</th>\n",
       "      <th>3</th>\n",
       "      <th>4</th>\n",
       "      <th>5</th>\n",
       "      <th>6</th>\n",
       "      <th>7</th>\n",
       "      <th>8</th>\n",
       "      <th>9</th>\n",
       "      <th>10</th>\n",
       "      <th>11</th>\n",
       "      <th>12</th>\n",
       "      <th>13</th>\n",
       "      <th>Subject</th>\n",
       "      <th>Subject</th>\n",
       "      <th>AGE</th>\n",
       "      <th>DX</th>\n",
       "    </tr>\n",
       "  </thead>\n",
       "  <tbody>\n",
       "    <tr>\n",
       "      <th>0</th>\n",
       "      <td>-3.120920</td>\n",
       "      <td>0.311297</td>\n",
       "      <td>-0.207844</td>\n",
       "      <td>-0.238248</td>\n",
       "      <td>1.059452</td>\n",
       "      <td>0.366266</td>\n",
       "      <td>-0.219164</td>\n",
       "      <td>0.080433</td>\n",
       "      <td>0.353756</td>\n",
       "      <td>-0.399241</td>\n",
       "      <td>0.441496</td>\n",
       "      <td>0.126314</td>\n",
       "      <td>0.211477</td>\n",
       "      <td>-0.145734</td>\n",
       "      <td>011_S_0002_bl</td>\n",
       "      <td>011_S_0002_bl</td>\n",
       "      <td>74.3</td>\n",
       "      <td>0.0</td>\n",
       "    </tr>\n",
       "    <tr>\n",
       "      <th>1</th>\n",
       "      <td>-2.764124</td>\n",
       "      <td>0.348425</td>\n",
       "      <td>0.017874</td>\n",
       "      <td>-0.314291</td>\n",
       "      <td>0.823108</td>\n",
       "      <td>0.335469</td>\n",
       "      <td>-0.271126</td>\n",
       "      <td>0.060692</td>\n",
       "      <td>0.278500</td>\n",
       "      <td>-0.370917</td>\n",
       "      <td>0.301974</td>\n",
       "      <td>0.058318</td>\n",
       "      <td>0.217246</td>\n",
       "      <td>-0.097525</td>\n",
       "      <td>011_S_0003_bl</td>\n",
       "      <td>011_S_0003_bl</td>\n",
       "      <td>81.3</td>\n",
       "      <td>1.0</td>\n",
       "    </tr>\n",
       "    <tr>\n",
       "      <th>2</th>\n",
       "      <td>-3.367002</td>\n",
       "      <td>0.264224</td>\n",
       "      <td>-0.329327</td>\n",
       "      <td>-0.369807</td>\n",
       "      <td>1.067295</td>\n",
       "      <td>0.205981</td>\n",
       "      <td>-0.361808</td>\n",
       "      <td>0.100209</td>\n",
       "      <td>0.376015</td>\n",
       "      <td>-0.490057</td>\n",
       "      <td>0.400539</td>\n",
       "      <td>-0.022170</td>\n",
       "      <td>0.008073</td>\n",
       "      <td>-0.016738</td>\n",
       "      <td>011_S_0005_bl</td>\n",
       "      <td>011_S_0005_bl</td>\n",
       "      <td>73.7</td>\n",
       "      <td>0.0</td>\n",
       "    </tr>\n",
       "    <tr>\n",
       "      <th>3</th>\n",
       "      <td>-3.460745</td>\n",
       "      <td>0.459035</td>\n",
       "      <td>-0.070624</td>\n",
       "      <td>-0.312577</td>\n",
       "      <td>1.066562</td>\n",
       "      <td>0.561834</td>\n",
       "      <td>-0.244161</td>\n",
       "      <td>0.026911</td>\n",
       "      <td>0.374442</td>\n",
       "      <td>-0.440668</td>\n",
       "      <td>0.511718</td>\n",
       "      <td>0.028147</td>\n",
       "      <td>0.177729</td>\n",
       "      <td>-0.125162</td>\n",
       "      <td>022_S_0007_bl</td>\n",
       "      <td>022_S_0007_bl</td>\n",
       "      <td>75.4</td>\n",
       "      <td>1.0</td>\n",
       "    </tr>\n",
       "    <tr>\n",
       "      <th>4</th>\n",
       "      <td>-3.397274</td>\n",
       "      <td>0.315061</td>\n",
       "      <td>-0.334642</td>\n",
       "      <td>-0.316144</td>\n",
       "      <td>1.073429</td>\n",
       "      <td>0.395777</td>\n",
       "      <td>-0.276566</td>\n",
       "      <td>0.052574</td>\n",
       "      <td>0.290454</td>\n",
       "      <td>-0.395371</td>\n",
       "      <td>0.497571</td>\n",
       "      <td>0.101695</td>\n",
       "      <td>0.105560</td>\n",
       "      <td>-0.076438</td>\n",
       "      <td>011_S_0008_bl</td>\n",
       "      <td>011_S_0008_bl</td>\n",
       "      <td>84.5</td>\n",
       "      <td>0.0</td>\n",
       "    </tr>\n",
       "  </tbody>\n",
       "</table>\n",
       "</div>"
      ],
      "text/plain": [
       "          0         1         2         3         4         5         6  \\\n",
       "0 -3.120920  0.311297 -0.207844 -0.238248  1.059452  0.366266 -0.219164   \n",
       "1 -2.764124  0.348425  0.017874 -0.314291  0.823108  0.335469 -0.271126   \n",
       "2 -3.367002  0.264224 -0.329327 -0.369807  1.067295  0.205981 -0.361808   \n",
       "3 -3.460745  0.459035 -0.070624 -0.312577  1.066562  0.561834 -0.244161   \n",
       "4 -3.397274  0.315061 -0.334642 -0.316144  1.073429  0.395777 -0.276566   \n",
       "\n",
       "          7         8         9        10        11        12        13  \\\n",
       "0  0.080433  0.353756 -0.399241  0.441496  0.126314  0.211477 -0.145734   \n",
       "1  0.060692  0.278500 -0.370917  0.301974  0.058318  0.217246 -0.097525   \n",
       "2  0.100209  0.376015 -0.490057  0.400539 -0.022170  0.008073 -0.016738   \n",
       "3  0.026911  0.374442 -0.440668  0.511718  0.028147  0.177729 -0.125162   \n",
       "4  0.052574  0.290454 -0.395371  0.497571  0.101695  0.105560 -0.076438   \n",
       "\n",
       "         Subject        Subject   AGE   DX  \n",
       "0  011_S_0002_bl  011_S_0002_bl  74.3  0.0  \n",
       "1  011_S_0003_bl  011_S_0003_bl  81.3  1.0  \n",
       "2  011_S_0005_bl  011_S_0005_bl  73.7  0.0  \n",
       "3  022_S_0007_bl  022_S_0007_bl  75.4  1.0  \n",
       "4  011_S_0008_bl  011_S_0008_bl  84.5  0.0  "
      ]
     },
     "execution_count": 35,
     "metadata": {},
     "output_type": "execute_result"
    }
   ],
   "source": [
    "result = pd.concat([brain_red, diagn], axis=1, join=\"inner\")\n",
    "result.head()"
   ]
  },
  {
   "cell_type": "markdown",
   "id": "cb9f1b56",
   "metadata": {},
   "source": [
    "## Entrenar el modelo de Machine Learning"
   ]
  },
  {
   "cell_type": "markdown",
   "id": "faa11d37",
   "metadata": {},
   "source": [
    "#### Suport Vector Machines (SVM)"
   ]
  },
  {
   "cell_type": "markdown",
   "id": "8d5edbd7",
   "metadata": {},
   "source": [
    "Para poder generar un modelo que sea útil a la hora de predecir si un próximo paciente debería ser diagnosticado con Alzheimer, podemos utilizar modelos como el de Support Vector Machines que es un modelo potente para hacer clasificaciones.\n",
    "\n",
    "Antes de entrenar el modelo, tenemos que dividir los datos en dos datasets. Uno será el que voy a utilizar para entrenar el algoritmo y el otro lo utilizaré para testear la capacidad predicitva que tiene.\n",
    "\n",
    "Otra manera alternativa es utilizar el método de cross validation k-folds. Que divide en k datasets llamados folds los datos originales y entrena y evalúa el modelo k veces. \n",
    "\n",
    "Para más información: https://scikit-learn.org/stable/modules/cross_validation.html"
   ]
  },
  {
   "cell_type": "code",
   "execution_count": 38,
   "id": "81de0eb2",
   "metadata": {},
   "outputs": [],
   "source": [
    "# separamos la variable diagnóstico del resto del datset\n",
    "\n",
    "y = result['DX']\n",
    "X = result.drop(columns = ['DX', 'Subject'])"
   ]
  },
  {
   "cell_type": "code",
   "execution_count": 40,
   "id": "09321607",
   "metadata": {},
   "outputs": [
    {
     "data": {
      "text/plain": [
       "array([0.89473684, 0.8245614 , 0.87719298, 0.89473684, 0.85380117])"
      ]
     },
     "execution_count": 40,
     "metadata": {},
     "output_type": "execute_result"
    }
   ],
   "source": [
    "# versión sencilla de svm utilizando un kernel lineal y cross validation\n",
    "from sklearn import svm\n",
    "from sklearn.model_selection import cross_val_score\n",
    "\n",
    "clf = svm.SVC(kernel='linear', C=1, random_state=42)\n",
    "scores = cross_val_score(clf, X, y, cv=5)\n",
    "scores"
   ]
  },
  {
   "cell_type": "code",
   "execution_count": 42,
   "id": "62e3eab5",
   "metadata": {},
   "outputs": [
    {
     "name": "stdout",
     "output_type": "stream",
     "text": [
      "0.87 accuracy with a standard deviation of 0.03\n"
     ]
    }
   ],
   "source": [
    "print(\"%0.2f accuracy with a standard deviation of %0.2f\" % (scores.mean(), scores.std()))"
   ]
  },
  {
   "cell_type": "markdown",
   "id": "3a2b85f9",
   "metadata": {},
   "source": [
    "#### Grid Search\n",
    "Manera de obtener el kernel idóneo, el valor de gamma y el valor de c para estimar el mejor valor modelo de PCA."
   ]
  },
  {
   "cell_type": "code",
   "execution_count": 46,
   "id": "7078eb7c",
   "metadata": {},
   "outputs": [
    {
     "data": {
      "text/plain": [
       "{'C': 100, 'gamma': 'scale', 'kernel': 'linear'}"
      ]
     },
     "execution_count": 46,
     "metadata": {},
     "output_type": "execute_result"
    }
   ],
   "source": [
    "from sklearn.model_selection import train_test_split\n",
    "from sklearn.svm import SVC\n",
    "from sklearn.model_selection import GridSearchCV\n",
    "\n",
    "X_train, X_test, y_train, y_test = train_test_split(X, y, test_size=0.3, random_state=42)\n",
    "\n",
    "# parametros que vamos a probar para estimar el mejor modelo.\n",
    "param_grid = {'C':[0.001,0.01,0.1,0.5,1,2,10,100],\n",
    "             'kernel':['linear','rbf'],\n",
    "              'gamma':['scale','auto']}\n",
    "\n",
    "svm = SVC()\n",
    "grid = GridSearchCV(svm,param_grid)\n",
    "\n",
    "grid.fit(X_train,y_train)\n",
    "\n",
    "grid.best_params_"
   ]
  },
  {
   "cell_type": "code",
   "execution_count": 57,
   "id": "5092a423",
   "metadata": {},
   "outputs": [
    {
     "data": {
      "text/plain": [
       "array([0.89565217, 0.86956522, 0.92105263, 0.86842105, 0.89473684])"
      ]
     },
     "execution_count": 57,
     "metadata": {},
     "output_type": "execute_result"
    }
   ],
   "source": [
    "# Con los mejores parámetros, creamos un nuevo modelo y vemos que tiene una precisión de 0.89 de media\n",
    "# utilizando cross_validation\n",
    "\n",
    "clf = SVC(kernel='linear', C=100, gamma = 'scale', random_state=42)\n",
    "scores = cross_val_score(clf, X_train,y_train, cv=5)\n",
    "scores"
   ]
  },
  {
   "cell_type": "code",
   "execution_count": 58,
   "id": "86adb8e3",
   "metadata": {},
   "outputs": [
    {
     "name": "stdout",
     "output_type": "stream",
     "text": [
      "0.89 accuracy with a standard deviation of 0.02\n"
     ]
    }
   ],
   "source": [
    "print(\"%0.2f accuracy with a standard deviation of %0.2f\" % (scores.mean(), scores.std()))"
   ]
  },
  {
   "cell_type": "markdown",
   "id": "adbed4f8",
   "metadata": {},
   "source": [
    "Vemos que este modelo tiene una precisión alta. Este valor nos da información, pero no toda la que queremos. \n",
    "\n",
    "Al tratarse de un problema de clasificación, queremos saber cuantos casos de Alzheimer son clasificados correctamente como casos de Alzheimer (Sensibilidad) y cuantos casos de personas sin Alzheimer son correctamente clasificadas como que no tienen Alzheimer (Especificidad).\n",
    "\n",
    "A partir de esta matriz podemos obtener métricas que nos van a dar información de cómo el modelo está clasificando los casos positivos y negativos en la enfermedad. Un modelo podría tener una sensibilidad muy alta a costa de perder mucha especificidad. \n",
    "\n",
    "Precisión de los casos positivos:\n",
    "\n",
    "$$\n",
    "  Precision = \\frac{VP}{VP + FP}\\\n",
    "$$\n",
    "\n",
    "Sensibilidad. El ratio de casos positivos que el modelo detecta como positivos respecto al total de positivos. \n",
    "\n",
    "$$\n",
    "  Sensibilidad = \\frac{VP}{VP + FN}\\\n",
    "$$\n",
    "\n",
    "Especificidad. El ratio de casos negativos que el modelo detecta como negativos respecto al total de negativos. \n",
    "\n",
    "$$\n",
    "  Especificidad = \\frac{VN}{VN + FP}\\\n",
    "$$\n",
    "\n",
    "\n",
    "Para generar estos valores, primero tenemos que generar la matriz de confusión:"
   ]
  },
  {
   "cell_type": "code",
   "execution_count": 59,
   "id": "2380d64d",
   "metadata": {},
   "outputs": [
    {
     "data": {
      "text/plain": [
       "array([[319,  26],\n",
       "       [ 37, 190]], dtype=int64)"
      ]
     },
     "execution_count": 59,
     "metadata": {},
     "output_type": "execute_result"
    }
   ],
   "source": [
    "from sklearn.model_selection import cross_val_predict\n",
    "from sklearn.metrics import confusion_matrix\n",
    "\n",
    "# cross_val_predict() en vez de retornar los scores, devuelve las predicciones de cada test fold\n",
    "y_train_pred = cross_val_predict(clf, X_train,y_train, cv=5)\n",
    "\n",
    "confusion_matrix(y_train, y_train_pred)"
   ]
  },
  {
   "cell_type": "code",
   "execution_count": 61,
   "id": "7f510b98",
   "metadata": {},
   "outputs": [],
   "source": [
    "tn, fp, fn, tp = confusion_matrix(y_train, y_train_pred).ravel()"
   ]
  },
  {
   "cell_type": "code",
   "execution_count": 64,
   "id": "62284214",
   "metadata": {},
   "outputs": [
    {
     "name": "stdout",
     "output_type": "stream",
     "text": [
      "La precisión del modelo es de 0.8796296296296297, la sensibilidad de 0.8370044052863436 y la especifícidad de 0.9246376811594202\n"
     ]
    }
   ],
   "source": [
    "prec = tp/(tp + fp)\n",
    "\n",
    "sens = tp/(tp + fn)\n",
    "\n",
    "spec = tn/(tn + fp)\n",
    "\n",
    "print(f\"La precisión del modelo es de {prec}, la sensibilidad de {sens} y la especifícidad de {spec}\")"
   ]
  },
  {
   "cell_type": "markdown",
   "id": "45f6603f",
   "metadata": {},
   "source": [
    "Ahora tenemos una imágen mejor del funcionamiento del modelo. Vemos que el valor más bajo es el de sensibilidad. Lo que significa que el 83,7% de las personas que tengan Alzheimer serán correctamente diagnósticadas con este modelo. Pero hay un 16,3% de personas con Alzhiemer que no reciben el diagnóstico. En consecuencia, estas personas podrían no recibir un tratamiento cuando en realidad deberían. En este caso, es mucho mejor recibir falsas alertas y clasificar incorrectamente a personas que no tienen la enfermedad como si la tuvieran.\n",
    "\n",
    "Una manera de solucionar esto es aumentar la sensibilidad a cambio de reducir la precisión del modelo y la especificidad.\n",
    "\n",
    "Primero voy a mirar cuanta precisión se pierde si se aumenta la sensibilidad. El modelo ideal tendría que tener un 95% o 99% de sensibilidad sin perder mucha precisión. \n",
    "\n",
    "Para mirar esto, lo mejor es utilizar la curva de precisión vs. sensibilidad."
   ]
  },
  {
   "cell_type": "code",
   "execution_count": 66,
   "id": "240e7a95",
   "metadata": {},
   "outputs": [],
   "source": [
    "# seleccionar el threshold adecuado\n",
    "\n",
    "y_scores = cross_val_predict(clf, X_train,y_train, cv=5,\n",
    "                            method = 'decision_function')"
   ]
  },
  {
   "cell_type": "code",
   "execution_count": 151,
   "id": "ac208347",
   "metadata": {
    "scrolled": true
   },
   "outputs": [
    {
     "data": {
      "image/png": "[encoded data removed]",
      "text/plain": [
       "<Figure size 800x400 with 1 Axes>"
      ]
     },
     "metadata": {
      "needs_background": "light"
     },
     "output_type": "display_data"
    }
   ],
   "source": [
    "from sklearn.metrics import precision_recall_curve\n",
    "\n",
    "precisions, sens, thresh = precision_recall_curve(y_train, y_scores)\n",
    "\n",
    "def plot_prec_sens_thresh(precisions, recalls, thresholds):\n",
    "    plt.figure(figsize=(10, 5), dpi=80)\n",
    "    plt.plot(thresholds, precisions[:-1], \"b--\", label = \"Precisión\")\n",
    "    plt.plot(thresholds, recalls[:-1], \"g-\", label = \"Sensibilidad\")\n",
    "    plt.plot([-4, 6.9], [.99, .99], c = 'orange', ls = ':', lw=2)\n",
    "    plt.plot([-4, 6.9], [.95, .95], c = 'peru', ls = ':', lw=2)\n",
    "    plt.plot([-4, 6.9], [.9, .9], c = 'brown', ls = ':', lw=2)\n",
    "    plt.legend(loc = 'center right')\n",
    "    plt.grid(True)\n",
    "\n",
    "\n",
    "plot_prec_sens_thresh(precisions, sens, thresh)\n",
    "plt.show()"
   ]
  },
  {
   "cell_type": "markdown",
   "id": "92e6db64",
   "metadata": {},
   "source": [
    "Mirando el gráfico, parece que aumentar la sensibilidad al 95% o 99% conllevaría una pérdida muy grande de precisión. Mientras que alrededor del 90% la pérdida no parece tan grande. \n",
    "\n",
    "Otra manera para escoger estos valores es con la ROC Curve."
   ]
  },
  {
   "cell_type": "code",
   "execution_count": 127,
   "id": "b53a67b7",
   "metadata": {},
   "outputs": [
    {
     "data": {
      "image/png": "[encoded data removed]",
      "text/plain": [
       "<Figure size 800x400 with 1 Axes>"
      ]
     },
     "metadata": {
      "needs_background": "light"
     },
     "output_type": "display_data"
    }
   ],
   "source": [
    "from sklearn.metrics import roc_curve, auc\n",
    "\n",
    "fpr, tpr, thresh = roc_curve(y_train, y_scores)\n",
    "\n",
    "def plot_roc(fpr, tpr):\n",
    "    plt.figure(figsize=(10, 5), dpi=80)\n",
    "    plt.plot(fpr, tpr, lw=2)\n",
    "    plt.plot([0,1],[0,1], 'k--')\n",
    "    plt.grid(True)\n",
    "    plt.xticks(np.linspace(0, 1, 11))\n",
    "    plt.yticks(np.linspace(0, 1, 11))\n",
    "    plt.ylabel('Sensibilidad')\n",
    "    plt.xlabel('False Positive Rate (1 - Especificidad)')\n",
    "\n",
    "\n",
    "plot_roc(fpr, tpr)\n",
    "plt.show()"
   ]
  },
  {
   "cell_type": "markdown",
   "id": "ef93cec2",
   "metadata": {},
   "source": [
    "En la ROC Curve se puede ver como con una sensibilidad del 90%, la especificidad se mantiene alta con un 80% aproximadamente. Para aumentar más la sensibilidad, el precio a pagar es muy alto y para subir un poco la sensibilidad es necesario renunciar a mucha especificidad. Es por eso que ajustaremos el modelo para aumentar la sensibilidad a un 90%."
   ]
  },
  {
   "cell_type": "code",
   "execution_count": 173,
   "id": "a03ab3c4",
   "metadata": {},
   "outputs": [],
   "source": [
    "precisions, sens, thresh = precision_recall_curve(y_train, y_scores)\n",
    "\n",
    "threshold_90_sens = thresh[np.argmax(sens <= 0.91)]\n",
    "\n",
    "y_train_pred_90 = (y_scores >= threshold_90_sens)"
   ]
  },
  {
   "cell_type": "code",
   "execution_count": 174,
   "id": "3628b1f1",
   "metadata": {},
   "outputs": [
    {
     "name": "stdout",
     "output_type": "stream",
     "text": [
      "La precisión del modelo es de 0.7490909090909091, la sensibilidad de 0.9074889867841409 y la especifícidad de 0.8\n"
     ]
    }
   ],
   "source": [
    "tn, fp, fn, tp = confusion_matrix(y_train, y_train_pred_90).ravel()\n",
    "\n",
    "prec = tp/(tp + fp)\n",
    "\n",
    "sens = tp/(tp + fn)\n",
    "\n",
    "spec = tn/(tn + fp)\n",
    "\n",
    "print(f\"La precisión del modelo es de {prec}, la sensibilidad de {sens} y la especifícidad de {spec}\")"
   ]
  },
  {
   "cell_type": "markdown",
   "id": "eebc77e5",
   "metadata": {},
   "source": [
    "Con estos cambios hemos conseguido mejorar la sensibilidad del modelo por encima del 90%, pero la especificidad y la precisión han bajado. Para aumentar 7% la sensibilidad, ha descendido un 13% la precisión. Y se nota en la especificidad. De manera que con este modelo se detectarán más casos de Alzheimer, pero se sobrediagnosticarán a más pacientes."
   ]
  },
  {
   "cell_type": "markdown",
   "id": "46ef238b",
   "metadata": {},
   "source": [
    "### Modelo final"
   ]
  },
  {
   "cell_type": "code",
   "execution_count": 199,
   "id": "b5f845a5",
   "metadata": {},
   "outputs": [
    {
     "data": {
      "text/plain": [
       "SVC(C=100, kernel='linear', probability=True, random_state=42)"
      ]
     },
     "execution_count": 199,
     "metadata": {},
     "output_type": "execute_result"
    }
   ],
   "source": [
    "# entrenamos los datos con todos los datos de test\n",
    "\n",
    "final_model = SVC(kernel='linear', C=100, gamma = 'scale', random_state=42, probability = True)\n",
    "final_model.fit(X_train, y_train_pred_90)"
   ]
  },
  {
   "cell_type": "code",
   "execution_count": 200,
   "id": "7f977192",
   "metadata": {},
   "outputs": [
    {
     "name": "stdout",
     "output_type": "stream",
     "text": [
      "La precisión del modelo es de 0.7480916030534351, la sensibilidad de 0.9074074074074074 y la especifícidad de 0.8114285714285714\n"
     ]
    }
   ],
   "source": [
    "final_predictions = final_model.predict(X_test)\n",
    "\n",
    "tn, fp, fn, tp = confusion_matrix(y_test, final_predictions).ravel()\n",
    "\n",
    "prec = tp/(tp + fp)\n",
    "\n",
    "sens = tp/(tp + fn)\n",
    "\n",
    "spec = tn/(tn + fp)\n",
    "\n",
    "print(f\"La precisión del modelo es de {prec}, la sensibilidad de {sens} y la especifícidad de {spec}\")"
   ]
  },
  {
   "cell_type": "markdown",
   "id": "b9b12ead",
   "metadata": {},
   "source": [
    "## Conclusiones"
   ]
  },
  {
   "cell_type": "markdown",
   "id": "1a4a8e05",
   "metadata": {},
   "source": [
    "Vemos como el modelo final tiene una **sensibilidad** para predecir el diagnóstico de Alzheimer de un 90.7%. Es decir, que de todas las personas con Alzheimer, el modelo ha identificado correctamente al 90.7% y un 9.3% de las personas con Alzheimer no van a ser diagnosticadas.\n",
    "\n",
    "Además, este modelo mantiene una **especificidad** alta del 81.1%. Lo que significa que cuatro de cada cinco personas sin diagnóstico de Alzheimer van a ser correctamente clasificadas como sanas. \n",
    "\n",
    "Mantener la **Sensibilidad** alta ha tenido un coste en la **precisión** que ha bajado del 87.9% en el primer modelo a un 74.8% al modelo de producción. Decidí hacer esto porque en este proyecto la precisión no es tan importante como la sensibilidad. Que se produzcan más Falsos Positivos es algo menos relevante que detectar el máximo número de verdaderos positivos.\n",
    "\n",
    "Estos resultados también demuestran que el uso de **PCA** para reducir la dimensionalidad no solamente ha sido útil para reducir el tiempo de computación, sino que ha llevado a construir un modelo de clasificación robusto y con una sensibilidad alta.\n",
    "\n",
    "Este modelo se podría **mejorar** incluyendo más datos como puntuaciones en test que midan la afectación de las áreas cognitivas normalmente afectadas en Alzheimer o biomarcadores como la acumulación de beta amiloide o tau en el cerebro. Incluyendo estos datos, se podría mejorar más la capacidad explicativa del modelo."
   ]
  },
  {
   "cell_type": "markdown",
   "id": "2a26e50a",
   "metadata": {},
   "source": [
    "## Referencias"
   ]
  },
  {
   "cell_type": "markdown",
   "id": "76e2627e",
   "metadata": {},
   "source": [
    "Géron, A. (2019). *Hands-on machine learning with Scikit-Learn, Keras, and TensorFlow: Concepts, tools, and techniques to build intelligent systems*. O'Reilly Media, Inc.."
   ]
  }
 ],
 "metadata": {
  "kernelspec": {
   "display_name": "Python 3",
   "language": "python",
   "name": "python3"
  },
  "language_info": {
   "codemirror_mode": {
    "name": "ipython",
    "version": 3
   },
   "file_extension": ".py",
   "mimetype": "text/x-python",
   "name": "python",
   "nbconvert_exporter": "python",
   "pygments_lexer": "ipython3",
   "version": "3.7.11"
  }
 },
 "nbformat": 4,
 "nbformat_minor": 5
}
